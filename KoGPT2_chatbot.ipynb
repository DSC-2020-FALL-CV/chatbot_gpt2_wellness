{
  "nbformat": 4,
  "nbformat_minor": 0,
  "metadata": {
    "colab": {
      "name": "KoGPT2_chatbot.ipynb",
      "private_outputs": true,
      "provenance": [],
      "collapsed_sections": []
    },
    "kernelspec": {
      "name": "python3",
      "display_name": "Python 3"
    },
    "accelerator": "GPU"
  },
  "cells": [
    {
      "cell_type": "code",
      "metadata": {
        "id": "8B8sxOfIbb2O"
      },
      "source": [
        "# GPU Information\r\n",
        "!nvidia-smi"
      ],
      "execution_count": null,
      "outputs": []
    },
    {
      "cell_type": "code",
      "metadata": {
        "id": "U8YDtL5Hvn_X"
      },
      "source": [
        "# Install PyTorch 1.5.1 with cuda 10.1\r\n",
        "!pip install torch==1.5.1+cu101 torchvision==0.6.1+cu101 -f https://download.pytorch.org/whl/torch_stable.html"
      ],
      "execution_count": null,
      "outputs": []
    },
    {
      "cell_type": "code",
      "metadata": {
        "id": "2PPFr9c8bqB1"
      },
      "source": [
        "# Install required packages\r\n",
        "!pip install mxnet==1.6.0 gluonnlp==0.9.1 sentencepiece==0.1.91 pandas==1.0.5 transformers==2.11.0"
      ],
      "execution_count": null,
      "outputs": []
    },
    {
      "cell_type": "code",
      "metadata": {
        "id": "J9V3Zjyeb0jj"
      },
      "source": [
        "# Clone KoGPT-2 chatbot source code\r\n",
        "!git clone --recurse-submodules https://github.com/DSC-2020-FALL-CV/chatbot_gpt2_wellness.git"
      ],
      "execution_count": null,
      "outputs": []
    },
    {
      "cell_type": "code",
      "metadata": {
        "id": "bZoIhqggb_3V"
      },
      "source": [
        "# Change directory and make 'models' directory\r\n",
        "%cd chatbot_gpt2_wellness\r\n",
        "%cd Colab\r\n",
        "%mkdir models"
      ],
      "execution_count": null,
      "outputs": []
    },
    {
      "cell_type": "markdown",
      "metadata": {
        "id": "RYW24yBz1LuV"
      },
      "source": [
        "Upload pre-trained model to 'models' directory as 'KoGPT2_checkpoint.pt'\r\n",
        "\r\n",
        "If you don't have one, run fine-tuning code before run chatting code"
      ]
    },
    {
      "cell_type": "code",
      "metadata": {
        "id": "Jmz7cQOacNoT"
      },
      "source": [
        "# Fine tune KoGPT-2 model\r\n",
        "!python train.py"
      ],
      "execution_count": null,
      "outputs": []
    },
    {
      "cell_type": "code",
      "metadata": {
        "id": "VdW9wiCtccTb"
      },
      "source": [
        "# Test chat with KoGPT-2 model\r\n",
        "# Enter 'quit' to terminate\r\n",
        "!python chat.py"
      ],
      "execution_count": null,
      "outputs": []
    }
  ]
}