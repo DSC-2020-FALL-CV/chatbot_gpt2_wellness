{
  "nbformat": 4,
  "nbformat_minor": 0,
  "metadata": {
    "colab": {
      "name": "KoGPT2_chatbot.ipynb",
      "private_outputs": true,
      "provenance": [],
      "collapsed_sections": []
    },
    "kernelspec": {
      "name": "python3",
      "display_name": "Python 3"
    },
    "accelerator": "GPU"
  },
  "cells": [
    {
      "cell_type": "code",
      "metadata": {
        "id": "8B8sxOfIbb2O"
      },
      "source": [
        "# GPU Information\r\n",
        "!nvidia-smi"
      ],
      "execution_count": null,
      "outputs": []
    },
    {
      "cell_type": "code",
      "metadata": {
        "id": "2PPFr9c8bqB1"
      },
      "source": [
        "# Install required packages\r\n",
        "!pip install mxnet==1.6.0 gluonnlp==0.9.1 sentencepiece==0.1.91 pandas==1.0.5 transformers==2.11.0"
      ],
      "execution_count": null,
      "outputs": []
    },
    {
      "cell_type": "code",
      "metadata": {
        "id": "KXkLmrt6dB1D"
      },
      "source": [
        "# Install git-lfs to handle large file via git\r\n",
        "!sudo apt-get install git-lfs"
      ],
      "execution_count": null,
      "outputs": []
    },
    {
      "cell_type": "code",
      "metadata": {
        "id": "J9V3Zjyeb0jj"
      },
      "source": [
        "# Clone KoGPT-2 chatbot source code\r\n",
        "!git clone --recurse-submodules https://github.com/GoonLee/chatbot_gpt2_wellness.git"
      ],
      "execution_count": null,
      "outputs": []
    },
    {
      "cell_type": "code",
      "metadata": {
        "id": "bZoIhqggb_3V"
      },
      "source": [
        "# Change directory and get pre-trained model\r\n",
        "%cd chatbot_gpt2_wellness\r\n",
        "!git lfs pull\r\n",
        "%cd backend"
      ],
      "execution_count": null,
      "outputs": []
    },
    {
      "cell_type": "code",
      "metadata": {
        "id": "CWYR4Ml5hb1o"
      },
      "source": [
        "%cd ..\r\n",
        "!git pull"
      ],
      "execution_count": null,
      "outputs": []
    },
    {
      "cell_type": "code",
      "metadata": {
        "id": "1OqF7MxGhhff"
      },
      "source": [
        "%cd backend"
      ],
      "execution_count": null,
      "outputs": []
    },
    {
      "cell_type": "markdown",
      "metadata": {
        "id": "6MLuLGkHlW-M"
      },
      "source": [
        "# This code below cannot be executed now due to dataset issues."
      ]
    },
    {
      "cell_type": "code",
      "metadata": {
        "id": "Jmz7cQOacNoT"
      },
      "source": [
        "# Fine tune KoGPT-2 model\r\n",
        "!python train.py"
      ],
      "execution_count": null,
      "outputs": []
    },
    {
      "cell_type": "markdown",
      "metadata": {
        "id": "pcx9w1udcihJ"
      },
      "source": [
        "# Any features below here is now in developing process."
      ]
    },
    {
      "cell_type": "code",
      "metadata": {
        "id": "VdW9wiCtccTb"
      },
      "source": [
        "# Test chat with our KoGPT-2 model\r\n",
        "!python chat.py"
      ],
      "execution_count": null,
      "outputs": []
    }
  ]
}